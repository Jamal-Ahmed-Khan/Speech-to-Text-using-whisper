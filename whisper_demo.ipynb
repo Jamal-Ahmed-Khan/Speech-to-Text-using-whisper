{
 "cells": [
  {
   "cell_type": "raw",
   "id": "ad0cf0b2",
   "metadata": {},
   "source": [
    "!pip install openai"
   ]
  },
  {
   "cell_type": "markdown",
   "id": "633c4b06",
   "metadata": {},
   "source": [
    "!pip install -U openai-whisper"
   ]
  },
  {
   "cell_type": "raw",
   "id": "86c0b038",
   "metadata": {},
   "source": [
    "!pip install ffmpeg"
   ]
  },
  {
   "cell_type": "markdown",
   "id": "8e90f9ff",
   "metadata": {},
   "source": [
    "https://www.geeksforgeeks.org/how-to-install-ffmpeg-on-windows/"
   ]
  },
  {
   "cell_type": "markdown",
   "id": "8fd848a6",
   "metadata": {},
   "source": [
    "https://github.com/openai/whisper/discussions/649"
   ]
  },
  {
   "cell_type": "markdown",
   "id": "35996af1",
   "metadata": {},
   "source": [
    "### Apply Speech to text using the Whisper model, except Urdu"
   ]
  },
  {
   "cell_type": "code",
   "execution_count": 8,
   "id": "c3e76957",
   "metadata": {},
   "outputs": [
    {
     "name": "stdout",
     "output_type": "stream",
     "text": [
      " I'd like you to clasp your hands together and keep them in that position for a moment. Some researchers see the brain as having two general modes. In one mode, often called right-brained, it's more intuitive, visual and creative. In the other, often called left-brained, it's more logical, sequential and analytical. All of us work in both modes but naturally tend towards one or the other. According to the theory, if your right thumb is on top of your left thumb, then you tend to be a so-called left brainer and so more likely to be verbal and analytical. If your left thumb is on top of your right thumb, then you tend to be a so-called right brainer and more likely to excel in visual, creative and intuitive tasks. So if you want to gain a fun insight into somebody, maybe you should ask them to put their hands together.\n"
     ]
    }
   ],
   "source": [
    "import whisper\n",
    "\n",
    "model = whisper.load_model(\"base\")\n",
    "result_en = model.transcribe(\"audio.mp3\",fp16=False)\n",
    "\n",
    "print(result_en[\"text\"])"
   ]
  },
  {
   "cell_type": "markdown",
   "id": "df7d59f7",
   "metadata": {},
   "source": [
    "### The model should detect the language and transcribe it\n"
   ]
  },
  {
   "cell_type": "code",
   "execution_count": 3,
   "id": "cdfd4d4d",
   "metadata": {},
   "outputs": [
    {
     "name": "stdout",
     "output_type": "stream",
     "text": [
      "Detected language: fr\n",
      "Les nombres Les nombres 1 2 3 4 5\n"
     ]
    }
   ],
   "source": [
    "import whisper\n",
    "\n",
    "model = whisper.load_model(\"large\")\n",
    "audio = whisper.load_audio(r\"new_lang.mp3\")\n",
    "audio = whisper.pad_or_trim(audio)\n",
    "mel = whisper.log_mel_spectrogram(audio).to(model.device)\n",
    "_, probs = model.detect_language(mel)\n",
    "det_lang = max(probs, key=probs.get)\n",
    "print(f\"Detected language: {det_lang}\")\n",
    "options = whisper.DecodingOptions(fp16=False)\n",
    "result = whisper.decode(model, mel, options)\n",
    "print(result.text)"
   ]
  },
  {
   "cell_type": "code",
   "execution_count": 4,
   "id": "b546713b",
   "metadata": {},
   "outputs": [
    {
     "name": "stdout",
     "output_type": "stream",
     "text": [
      " Assalamu Alaikum, my name is Jamal Ahmed Khan, I am 21 years old. I am a student of NED, University of Engineering and Technology, Karachi. I am in my 7th semester and I am doing my Bachelor's in Software Engineering. My field and interest is in Python, Programming Language, SQL and Databases. I am currently doing my Data Science Apprenticeship in Shizpior. Thank you.\n"
     ]
    }
   ],
   "source": [
    "response = model.transcribe('urduaudio.mp3', task='translate', fp16=False)\n",
    "print(response['text'])"
   ]
  },
  {
   "cell_type": "markdown",
   "id": "75521d51",
   "metadata": {},
   "source": [
    "### Your script should translate transcribed text into the Urdu language.\n",
    "#### Translated text to urdu using googletrans library as there is no direct way to translate text to text using whisper model\n"
   ]
  },
  {
   "cell_type": "code",
   "execution_count": 10,
   "id": "0cd1b152",
   "metadata": {},
   "outputs": [
    {
     "name": "stdout",
     "output_type": "stream",
     "text": [
      "میں چاہتا ہوں کہ آپ اپنے ہاتھوں کو ایک ساتھ باندھ دیں اور انہیں ایک لمحے کے لئے اس پوزیشن میں رکھیں۔کچھ محققین دماغ کو دو عام طریقوں کے طور پر دیکھتے ہیں۔ایک موڈ میں ، جسے اکثر دائیں دماغ والے کہا جاتا ہے ، یہ زیادہ بدیہی ، بصری اور تخلیقی ہے۔دوسرے میں ، جسے اکثر بائیں دماغ والا کہا جاتا ہے ، یہ زیادہ منطقی ، ترتیب وار اور تجزیاتی ہے۔ہم سب دونوں طریقوں میں کام کرتے ہیں لیکن قدرتی طور پر ایک یا دوسرے کی طرف مائل ہوتے ہیں۔نظریہ کے مطابق ، اگر آپ کا دائیں انگوٹھا آپ کے بائیں انگوٹھے کے اوپر ہے ، تو آپ ایک نام نہاد بائیں دماغی بنتے ہیں اور اس سے زیادہ زبانی اور تجزیاتی ہونے کا امکان زیادہ ہوتا ہے۔اگر آپ کا بائیں انگوٹھا آپ کے دائیں انگوٹھے کے اوپر ہے تو ، پھر آپ ایک نام نہاد دائیں دماغی بنتے ہیں اور بصری ، تخلیقی اور بدیہی کاموں میں سبقت لینے کا زیادہ امکان رکھتے ہیں۔لہذا اگر آپ کسی کے بارے میں تفریحی بصیرت حاصل کرنا چاہتے ہیں تو ، شاید آپ ان سے ایک ساتھ ہاتھ رکھنے کو کہیں۔\n"
     ]
    }
   ],
   "source": [
    "from googletrans import Translator\n",
    "\n",
    "def translate_to_urdu(text):\n",
    "    translator = Translator()\n",
    "    translation = translator.translate(text, dest='ur')\n",
    "    return translation.text\n",
    "\n",
    "text = result_en[\"text\"]\n",
    "urdu_translation = translate_to_urdu(text)\n",
    "print(urdu_translation)"
   ]
  }
 ],
 "metadata": {
  "kernelspec": {
   "display_name": "Python 3 (ipykernel)",
   "language": "python",
   "name": "python3"
  },
  "language_info": {
   "codemirror_mode": {
    "name": "ipython",
    "version": 3
   },
   "file_extension": ".py",
   "mimetype": "text/x-python",
   "name": "python",
   "nbconvert_exporter": "python",
   "pygments_lexer": "ipython3",
   "version": "3.10.9"
  }
 },
 "nbformat": 4,
 "nbformat_minor": 5
}
